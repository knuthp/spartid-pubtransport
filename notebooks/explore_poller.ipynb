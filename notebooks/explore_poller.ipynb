{
 "cells": [
  {
   "cell_type": "code",
   "execution_count": null,
   "metadata": {},
   "outputs": [],
   "source": [
    "import datetime\n",
    "import sqlite3 as db\n",
    "\n",
    "import folium\n",
    "import geopandas\n",
    "import pandas as pd\n",
    "\n",
    "# from rich.traceback import install\n",
    "from shapely.geometry import LineString\n",
    "\n",
    "# install(show_locals=True)"
   ]
  },
  {
   "cell_type": "code",
   "execution_count": null,
   "metadata": {},
   "outputs": [],
   "source": [
    "con = db.connect(\"../data/entur.db\")"
   ]
  },
  {
   "cell_type": "code",
   "execution_count": null,
   "metadata": {},
   "outputs": [],
   "source": [
    "df_raw = pd.read_sql(\"SELECT * FROM VEHICLE_MONITORING;\", con=con)\n",
    "len(df_raw)"
   ]
  },
  {
   "cell_type": "code",
   "execution_count": null,
   "metadata": {},
   "outputs": [],
   "source": [
    "df_raw.sample(5).T"
   ]
  },
  {
   "cell_type": "code",
   "execution_count": null,
   "metadata": {},
   "outputs": [],
   "source": [
    "df_raw.dtypes"
   ]
  },
  {
   "cell_type": "code",
   "execution_count": null,
   "metadata": {},
   "outputs": [],
   "source": [
    "df = (\n",
    "    df_raw.query(\"~Latitude.isna() or ~Longitude.isna()\")  # Some points are Nan\n",
    "    .query(\n",
    "        \"50 < Latitude < 71 or 2 < Longitude < 20\"\n",
    "    )  # Some values are far outside Norway\n",
    "    .query(\n",
    "        \"- 10*60*60 < Delay < 10*60*60\"\n",
    "    )  # Some delays are huge and indicate false measurements or large jump in time\n",
    "    .query(\n",
    "        \"~(DatedVehicleJourneyRef == 'VYB:ServiceJourney:')\"\n",
    "    )  # Some journeys seem to use same ID\n",
    ")\n",
    "\n",
    "df"
   ]
  },
  {
   "cell_type": "code",
   "execution_count": null,
   "metadata": {},
   "outputs": [],
   "source": [
    "(\n",
    "    df.groupby([\"DataFrameRef\", \"DatedVehicleJourneyRef\"])\n",
    "    .agg(\n",
    "        latitude_min=(\"Latitude\", \"min\"),\n",
    "        latitude_max=(\"Latitude\", \"max\"),\n",
    "        longitude_min=(\"Longitude\", \"min\"),\n",
    "        longitude_max=(\"Longitude\", \"max\"),\n",
    "        dataframeref_count=(\"DataFrameRef\", \"count\"),\n",
    "    )\n",
    "    .assign(\n",
    "        latitude_diff=lambda df1: df1[\"latitude_max\"] - df1[\"latitude_min\"],\n",
    "        longitude_diff=lambda df1: df1[\"longitude_max\"] - df1[\"longitude_min\"],\n",
    "    )\n",
    "    .reset_index()\n",
    "    .query(\"latitude_diff > 0.1 or longitude_diff > 0.1\")\n",
    "    .sort_values([\"latitude_diff\", \"longitude_diff\"])\n",
    ")"
   ]
  },
  {
   "cell_type": "code",
   "execution_count": null,
   "metadata": {},
   "outputs": [],
   "source": [
    "(\n",
    "    df.query(\n",
    "        \"DatedVehicleJourneyRef == 'ATB:ServiceJourney:78_230306097864734_105'\"\n",
    "    ).tail(60)\n",
    ")"
   ]
  },
  {
   "cell_type": "code",
   "execution_count": null,
   "metadata": {},
   "outputs": [],
   "source": [
    "ref = \"ATB:ServiceJourney:78_230306097864734_105\"\n",
    "df_investigate = df_raw.query(\"DatedVehicleJourneyRef == @ref\")\n",
    "display(df_investigate.T)\n",
    "\n",
    "df_investigate.plot(\"Longitude\", \"Latitude\")"
   ]
  },
  {
   "cell_type": "code",
   "execution_count": null,
   "metadata": {},
   "outputs": [],
   "source": [
    "df_one = df.query(\"DatedVehicleJourneyRef == @ref\")\n",
    "geo_df_one = geopandas.GeoDataFrame(\n",
    "    df_one,\n",
    "    geometry=geopandas.points_from_xy(df_one.Longitude, df_one.Latitude),\n",
    "    crs=\"EPSG:4326\",\n",
    ")\n",
    "\n",
    "(\n",
    "    geo_df_one.groupby([\"DataFrameRef\", \"DatedVehicleJourneyRef\"])[\"geometry\"].apply(\n",
    "        lambda x: LineString(x.tolist())\n",
    "    )\n",
    ").set_crs(\"EPSG:4326\").explore()"
   ]
  },
  {
   "cell_type": "code",
   "execution_count": null,
   "metadata": {},
   "outputs": [],
   "source": [
    "geo_df = geopandas.GeoDataFrame(\n",
    "    df, geometry=geopandas.points_from_xy(df.Longitude, df.Latitude), crs=\"EPSG:4326\"\n",
    ")\n",
    "\n",
    "last_hours = pd.to_datetime(datetime.datetime.today() - datetime.timedelta(days=4))\n",
    "print(last_hours)\n",
    "\n",
    "(\n",
    "    geo_df[\n",
    "        # Some points are empty, not sure reason\n",
    "        ~geo_df[\"geometry\"].is_empty\n",
    "    ]\n",
    "    .assign(timestamp=lambda df1: pd.to_datetime(df1[\"RecordedAtTime\"]))\n",
    "    .groupby([\"DataFrameRef\", \"DatedVehicleJourneyRef\"])\n",
    "    .filter(lambda x: len(x) >= 10)\n",
    "    .groupby([\"DataFrameRef\", \"DatedVehicleJourneyRef\"])[\"geometry\"]\n",
    "    .apply(lambda x: LineString(x.tolist()))\n",
    ").set_crs(\"EPSG:4326\").explore()"
   ]
  },
  {
   "cell_type": "code",
   "execution_count": null,
   "metadata": {},
   "outputs": [],
   "source": [
    "map = folium.Map([60, 10], zoom_start=8)\n",
    "\n",
    "\n",
    "popup = folium.GeoJsonPopup(\n",
    "    fields=[\n",
    "        \"DataFrameRef\",\n",
    "        \"DatedVehicleJourneyRef\",\n",
    "        \"RecordedAtTime\",\n",
    "        \"LineRef\",\n",
    "        \"VehicleMode\",\n",
    "        \"Delay\",\n",
    "    ]\n",
    ")\n",
    "\n",
    "folium.GeoJson(\n",
    "    data=geo_df.tail(100),\n",
    "    style_function=lambda feature: {\"color\": \"black\"},\n",
    "    popup=popup,\n",
    ").add_to(map)\n",
    "map"
   ]
  },
  {
   "cell_type": "code",
   "execution_count": null,
   "metadata": {},
   "outputs": [],
   "source": []
  }
 ],
 "metadata": {
  "kernelspec": {
   "display_name": ".venv",
   "language": "python",
   "name": "python3"
  },
  "language_info": {
   "codemirror_mode": {
    "name": "ipython",
    "version": 3
   },
   "file_extension": ".py",
   "mimetype": "text/x-python",
   "name": "python",
   "nbconvert_exporter": "python",
   "pygments_lexer": "ipython3",
   "version": "3.12.2"
  }
 },
 "nbformat": 4,
 "nbformat_minor": 2
}
