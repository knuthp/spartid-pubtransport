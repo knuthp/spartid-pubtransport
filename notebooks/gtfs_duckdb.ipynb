{
 "cells": [
  {
   "cell_type": "markdown",
   "metadata": {},
   "source": [
    "# Read GTFS with duckdb \n",
    "Since gtfs_functions package crash on Entur data"
   ]
  },
  {
   "cell_type": "code",
   "execution_count": null,
   "metadata": {},
   "outputs": [],
   "source": [
    "from pathlib import Path\n",
    "\n",
    "import duckdb"
   ]
  },
  {
   "cell_type": "code",
   "execution_count": null,
   "metadata": {},
   "outputs": [],
   "source": [
    "gtfs_root = Path().resolve().parent / \"data/gtfs/rb_norway-aggregated-gtfs\"\n",
    "assert gtfs_root.exists()\n",
    "\n",
    "table_names = [\n",
    "    \"calendar\",\n",
    "    \"calendar_dates\",\n",
    "    \"stops\",\n",
    "    \"stop_times\",\n",
    "    \"routes\",\n",
    "    \"transfers\",\n",
    "    \"trips\",\n",
    "    \"shapes\",\n",
    "]\n",
    "skip_exists = True"
   ]
  },
  {
   "cell_type": "markdown",
   "metadata": {},
   "source": [
    "## CSV to Parquet"
   ]
  },
  {
   "cell_type": "code",
   "execution_count": null,
   "metadata": {},
   "outputs": [],
   "source": [
    "for table in table_names:\n",
    "    parquet_file = gtfs_root / f\"{table}.parquet\"\n",
    "    csv_file = gtfs_root / f\"{table}.txt\"\n",
    "    if not parquet_file.exists() or not skip_exists:\n",
    "        duckdb.sql(\n",
    "            f\"COPY(SELECT * FROM read_csv('{csv_file}')) TO '{parquet_file}' (FORMAT 'parquet');\"\n",
    "        )"
   ]
  },
  {
   "cell_type": "markdown",
   "metadata": {},
   "source": [
    "## Creating duckdb tables from CSV\n",
    "1. Fills database, hence memory or disk with copies\n",
    "1. Adds read time at startup if memory"
   ]
  },
  {
   "cell_type": "code",
   "execution_count": null,
   "metadata": {},
   "outputs": [],
   "source": [
    "for table in [\"shapes\"]:  # table_names:\n",
    "    duckdb.sql(\n",
    "        f\"CREATE TABLE IF NOT EXISTS {table} AS FROM read_csv('{gtfs_root / f\"{table}.txt\"}');\"\n",
    "    )"
   ]
  },
  {
   "cell_type": "code",
   "execution_count": null,
   "metadata": {},
   "outputs": [],
   "source": [
    "duckdb.sql(\"SELECT COUNT() FROM shapes;\")"
   ]
  },
  {
   "cell_type": "code",
   "execution_count": null,
   "metadata": {},
   "outputs": [],
   "source": [
    "duckdb.sql(f\"SELECT COUNT() FROM read_csv('{gtfs_root / \"shapes.txt\"}');\")"
   ]
  },
  {
   "cell_type": "code",
   "execution_count": null,
   "metadata": {},
   "outputs": [],
   "source": [
    "duckdb.sql(f\"SELECT COUNT() FROM '{gtfs_root / \"shapes.parquet\"}';\")"
   ]
  },
  {
   "cell_type": "markdown",
   "metadata": {},
   "source": [
    "### Stops"
   ]
  },
  {
   "cell_type": "code",
   "execution_count": null,
   "metadata": {},
   "outputs": [],
   "source": [
    "stops = duckdb.read_csv(gtfs_root / \"stops.txt\")\n",
    "stops.show(max_width=250)"
   ]
  },
  {
   "cell_type": "markdown",
   "metadata": {},
   "source": [
    "### Stop times"
   ]
  },
  {
   "cell_type": "code",
   "execution_count": null,
   "metadata": {},
   "outputs": [],
   "source": [
    "stop_times = duckdb.read_csv(gtfs_root / \"stop_times.txt\")\n",
    "stop_times.show(max_width=250)"
   ]
  },
  {
   "cell_type": "markdown",
   "metadata": {},
   "source": [
    "## routes"
   ]
  },
  {
   "cell_type": "code",
   "execution_count": null,
   "metadata": {},
   "outputs": [],
   "source": [
    "routes = duckdb.read_csv(gtfs_root / \"routes.txt\")\n",
    "routes.show(max_width=250)"
   ]
  },
  {
   "cell_type": "markdown",
   "metadata": {},
   "source": [
    "### transfers"
   ]
  },
  {
   "cell_type": "code",
   "execution_count": null,
   "metadata": {},
   "outputs": [],
   "source": [
    "transfers = duckdb.read_csv(gtfs_root / \"transfers.txt\")\n",
    "transfers.show(max_width=250)"
   ]
  },
  {
   "cell_type": "markdown",
   "metadata": {},
   "source": [
    "### trips"
   ]
  },
  {
   "cell_type": "code",
   "execution_count": null,
   "metadata": {},
   "outputs": [],
   "source": [
    "trips = duckdb.read_csv(gtfs_root / \"trips.txt\")\n",
    "trips.show(max_width=250)"
   ]
  },
  {
   "cell_type": "markdown",
   "metadata": {},
   "source": [
    "## Shapes"
   ]
  },
  {
   "cell_type": "code",
   "execution_count": null,
   "metadata": {},
   "outputs": [],
   "source": [
    "shapes_parquet = gtfs_root / \"shapes.parquet\"\n",
    "shapes = duckdb.read_parquet(str(shapes_parquet))\n",
    "shapes.show()"
   ]
  },
  {
   "cell_type": "code",
   "execution_count": null,
   "metadata": {},
   "outputs": [],
   "source": [
    "res = duckdb.sql(f\"SELECT COUNT(*) from '{shapes_parquet}';\")\n",
    "res.show()"
   ]
  },
  {
   "cell_type": "code",
   "execution_count": null,
   "metadata": {},
   "outputs": [],
   "source": [
    "shapes_parquet_meta = duckdb.sql(f\"SELECT * FROM parquet_metadata('{shapes_parquet}')\")\n",
    "shapes_parquet_meta.show(max_width=500)"
   ]
  },
  {
   "cell_type": "code",
   "execution_count": null,
   "metadata": {},
   "outputs": [],
   "source": [
    "res = duckdb.sql(f\"SELECT * from '{shapes_parquet}' LIMIT 10;\")\n",
    "res.show()"
   ]
  },
  {
   "cell_type": "code",
   "execution_count": null,
   "metadata": {},
   "outputs": [],
   "source": [
    "res = duckdb.sql(\n",
    "    f\"SELECT * from '{shapes_parquet}' WHERE shape_id == 'AKT:JourneyPattern:58013_1';\"\n",
    ")\n",
    "res.to_df()"
   ]
  },
  {
   "cell_type": "markdown",
   "metadata": {},
   "source": [
    "### Longest shape"
   ]
  },
  {
   "cell_type": "code",
   "execution_count": null,
   "metadata": {},
   "outputs": [],
   "source": [
    "res = duckdb.sql(\n",
    "    f\"SELECT max_by(shape_id, shape_dist_traveled) from '{shapes_parquet}';\"\n",
    ")\n",
    "res.to_df()"
   ]
  },
  {
   "cell_type": "code",
   "execution_count": null,
   "metadata": {},
   "outputs": [],
   "source": [
    "res = duckdb.sql(\n",
    "    f\"SELECT * from '{shapes_parquet}' WHERE shape_id == 'HAV:JourneyPattern:2024-11-02';\"\n",
    ")\n",
    "res.to_df()"
   ]
  },
  {
   "cell_type": "markdown",
   "metadata": {},
   "source": [
    "### Longest shapes"
   ]
  },
  {
   "cell_type": "code",
   "execution_count": null,
   "metadata": {},
   "outputs": [],
   "source": [
    "res = duckdb.sql(\n",
    "    f\"SELECT shape_id, max(shape_dist_traveled) AS total_dist from '{shapes_parquet}' GROUP BY shape_id ORDER BY total_dist DESC LIMIT 40;\"\n",
    ")\n",
    "res.to_df()\n",
    "# GROUP BY shape_id ORDER BY shape_dist_traveled LIMIT 10"
   ]
  },
  {
   "cell_type": "code",
   "execution_count": null,
   "metadata": {},
   "outputs": [],
   "source": []
  }
 ],
 "metadata": {
  "kernelspec": {
   "display_name": ".venv",
   "language": "python",
   "name": "python3"
  },
  "language_info": {
   "codemirror_mode": {
    "name": "ipython",
    "version": 3
   },
   "file_extension": ".py",
   "mimetype": "text/x-python",
   "name": "python",
   "nbconvert_exporter": "python",
   "pygments_lexer": "ipython3",
   "version": "3.12.2"
  }
 },
 "nbformat": 4,
 "nbformat_minor": 2
}
