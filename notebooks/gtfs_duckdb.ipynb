{
 "cells": [
  {
   "cell_type": "markdown",
   "metadata": {},
   "source": [
    "# GTFS to parquet\n",
    "Read GTFS from Internet and convert to parquet with duckdb."
   ]
  },
  {
   "cell_type": "code",
   "execution_count": null,
   "metadata": {},
   "outputs": [],
   "source": [
    "import urllib.request\n",
    "\n",
    "from io import BytesIO\n",
    "from pathlib import Path\n",
    "from zipfile import ZipFile\n",
    "\n",
    "import duckdb\n"
   ]
  },
  {
   "cell_type": "code",
   "execution_count": null,
   "metadata": {},
   "outputs": [],
   "source": [
    "# Do a fresh download of GTFS data from Entur\n",
    "fresh_download = False\n"
   ]
  },
  {
   "cell_type": "code",
   "execution_count": null,
   "metadata": {},
   "outputs": [],
   "source": [
    "gtfs_url = \"https://storage.googleapis.com/marduk-production/outbound/gtfs/rb_norway-aggregated-gtfs.zip\"\n",
    "gtfs_root = Path().resolve().parent / \"data/gtfs/rb_norway-aggregated-gtfs\"\n",
    "gtfs_root.mkdir(exist_ok=True, parents=True)\n",
    "local_gtfs_zip = gtfs_root.parent / \"rb_norway-aggregated-gtfs.zip\"\n",
    "\n",
    "if not local_gtfs_zip.exists() or fresh_download:\n",
    "    resp = urllib.request.urlretrieve(gtfs_url, local_gtfs_zip)\n",
    "    print(resp)"
   ]
  },
  {
   "cell_type": "code",
   "execution_count": null,
   "metadata": {},
   "outputs": [],
   "source": [
    "myzip = ZipFile(local_gtfs_zip)\n",
    "\n",
    "print(myzip.namelist())\n",
    "for name in myzip.namelist():\n",
    "    print(f\"{name}: {myzip.getinfo(name).compress_size:_} {myzip.getinfo(name).file_size:_}\")"
   ]
  },
  {
   "cell_type": "code",
   "execution_count": null,
   "metadata": {},
   "outputs": [],
   "source": [
    "table_names = ['feed_info',\n",
    " 'stop_times',\n",
    " 'calendar',\n",
    " 'shapes',\n",
    " 'agency',\n",
    " 'transfers',\n",
    " 'stops',\n",
    " 'trips',\n",
    " 'calendar_dates',\n",
    " 'routes']"
   ]
  },
  {
   "cell_type": "markdown",
   "metadata": {},
   "source": [
    "## CSV (txt) to Parquet"
   ]
  },
  {
   "cell_type": "code",
   "execution_count": null,
   "metadata": {},
   "outputs": [],
   "source": [
    "for table_name in table_names:\n",
    "    parquet_file = gtfs_root / f\"{table_name}.parquet\"\n",
    "    if not parquet_file.exists() or fresh_download:\n",
    "        csv = duckdb.read_csv(myzip.extract(f\"{table_name}.txt\"))\n",
    "        duckdb.sql(f\"\"\"COPY(SELECT * FROM csv) TO '{parquet_file}' (FORMAT 'parquet'); \"\"\")"
   ]
  }
 ],
 "metadata": {
  "kernelspec": {
   "display_name": ".venv",
   "language": "python",
   "name": "python3"
  },
  "language_info": {
   "codemirror_mode": {
    "name": "ipython",
    "version": 3
   },
   "file_extension": ".py",
   "mimetype": "text/x-python",
   "name": "python",
   "nbconvert_exporter": "python",
   "pygments_lexer": "ipython3",
   "version": "3.10.12"
  }
 },
 "nbformat": 4,
 "nbformat_minor": 2
}
