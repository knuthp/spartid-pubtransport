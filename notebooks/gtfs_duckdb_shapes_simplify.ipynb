{
 "cells": [
  {
   "cell_type": "markdown",
   "metadata": {},
   "source": [
    "# Simplify shapes with duckdb spatial"
   ]
  },
  {
   "cell_type": "code",
   "execution_count": null,
   "metadata": {},
   "outputs": [],
   "source": [
    "from pathlib import Path\n",
    "\n",
    "import duckdb\n",
    "import geopandas\n",
    "import pandas as pd"
   ]
  },
  {
   "cell_type": "code",
   "execution_count": null,
   "metadata": {},
   "outputs": [],
   "source": [
    "gtfs_root = Path().resolve().parent / \"data/gtfs/rb_norway-aggregated-gtfs\"\n",
    "duckdb.connect(str(gtfs_root / \"gtfs.ducksb\"))\n",
    "duckdb.load_extension(\"SPATIAL\")\n",
    "duckdb.install_extension(\"SPATIAL\")"
   ]
  },
  {
   "cell_type": "code",
   "execution_count": null,
   "metadata": {},
   "outputs": [],
   "source": [
    "shapes_parquet = gtfs_root / \"shapes.parquet\"\n",
    "print(shapes_parquet)\n",
    "assert shapes_parquet.exists()\n",
    "shapes = duckdb.read_parquet(str(shapes_parquet))"
   ]
  },
  {
   "cell_type": "code",
   "execution_count": null,
   "metadata": {},
   "outputs": [],
   "source": [
    "num_shapes = duckdb.sql(\"\"\"SELECT COUNT(DISTINCT shape_id) FROM shapes;\"\"\")\n",
    "num_shapes"
   ]
  },
  {
   "cell_type": "code",
   "execution_count": null,
   "metadata": {},
   "outputs": [],
   "source": [
    "shapes.show()"
   ]
  },
  {
   "cell_type": "code",
   "execution_count": null,
   "metadata": {},
   "outputs": [],
   "source": [
    "shapes_as_point = duckdb.sql(\n",
    "    \"\"\"\n",
    "        SELECT\n",
    "            shape_id, shape_pt_sequence, shape_dist_traveled, ST_Point(shape_pt_lon, shape_pt_lat) AS geometry\n",
    "        FROM shapes;\n",
    "    \"\"\"\n",
    ")\n",
    "shapes_as_point.show()"
   ]
  },
  {
   "cell_type": "markdown",
   "metadata": {},
   "source": [
    "## Simplify shapes geom\n",
    "### Experiments"
   ]
  },
  {
   "cell_type": "code",
   "execution_count": null,
   "metadata": {},
   "outputs": [],
   "source": [
    "per_iter = 2_000_000\n",
    "\n",
    "dfs = []\n",
    "for offset in [x * per_iter for x in range(len(shapes_as_point) // per_iter + 1)]:\n",
    "    res = duckdb.sql(\n",
    "        f\"\"\"\n",
    "                SELECT\n",
    "                    shape_id, MAX(shape_pt_sequence), MAX(shape_dist_traveled ), ST_AsText(ST_SimplifyPreserveTopology(ST_MakeLine(list(geometry ORDER BY shape_pt_sequence ASC)), 0.001)) as Geom\n",
    "                FROM (SELECT * FROM shapes_as_point LIMIT {per_iter} OFFSET {offset})\n",
    "                GROUP BY shape_id\n",
    "        \"\"\"\n",
    "    )\n",
    "    dfs.append(res.to_df())\n",
    "    print(f\"{offset=}, num_shapes {len(res)=}\")"
   ]
  },
  {
   "cell_type": "code",
   "execution_count": null,
   "metadata": {},
   "outputs": [],
   "source": [
    "df = pd.concat(dfs).reset_index(drop=True)\n",
    "df"
   ]
  },
  {
   "cell_type": "code",
   "execution_count": null,
   "metadata": {},
   "outputs": [],
   "source": [
    "geometries = geopandas.GeoSeries.from_wkt(df[\"Geom\"].to_list())\n",
    "print(len(geometries))\n",
    "gdf = geopandas.GeoDataFrame(df, geometry=geometries).drop(columns=\"Geom\")"
   ]
  },
  {
   "cell_type": "code",
   "execution_count": null,
   "metadata": {},
   "outputs": [],
   "source": [
    "gdf.set_crs(\"epsg:4326\").explore()"
   ]
  },
  {
   "cell_type": "code",
   "execution_count": null,
   "metadata": {},
   "outputs": [],
   "source": [
    "gdf.to_parquet(gtfs_root / \"shapes_linestring_simple.parquet\")"
   ]
  },
  {
   "cell_type": "code",
   "execution_count": null,
   "metadata": {},
   "outputs": [],
   "source": [
    "gdf_read = geopandas.read_parquet(gtfs_root / \"shapes_linestring_simple.parquet\")\n",
    "gdf_read"
   ]
  },
  {
   "cell_type": "code",
   "execution_count": null,
   "metadata": {},
   "outputs": [],
   "source": [
    "gdf_read.plot()"
   ]
  },
  {
   "cell_type": "markdown",
   "metadata": {},
   "source": [
    "### Simplify shapes to lines and save\n",
    "Fails on laptop with wsl and 8 GB RAM"
   ]
  },
  {
   "cell_type": "code",
   "execution_count": null,
   "metadata": {},
   "outputs": [],
   "source": [
    "# res = duckdb.sql(\n",
    "#     f\"\"\"\n",
    "#         COPY (\n",
    "#             SELECT\n",
    "#                 shape_id, MAX(shape_pt_sequence), MAX(shape_dist_traveled ), ST_SimplifyPreserveTopology(ST_MakeLine(list(geometry ORDER BY shape_pt_sequence ASC)), 0.001) as Geom\n",
    "#             FROM (SELECT * FROM shapes_as_point)\n",
    "#             GROUP BY shape_id\n",
    "#         ) TO '{gtfs_root / \"shapes_linestring_simple.parquet\"}';\n",
    "#     \"\"\"\n",
    "# )\n"
   ]
  }
 ],
 "metadata": {
  "kernelspec": {
   "display_name": ".venv",
   "language": "python",
   "name": "python3"
  },
  "language_info": {
   "codemirror_mode": {
    "name": "ipython",
    "version": 3
   },
   "file_extension": ".py",
   "mimetype": "text/x-python",
   "name": "python",
   "nbconvert_exporter": "python",
   "pygments_lexer": "ipython3",
   "version": "3.12.2"
  }
 },
 "nbformat": 4,
 "nbformat_minor": 2
}
