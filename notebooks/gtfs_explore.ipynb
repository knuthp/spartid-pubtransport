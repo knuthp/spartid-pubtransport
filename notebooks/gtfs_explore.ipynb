{
 "cells": [
  {
   "cell_type": "code",
   "execution_count": 1,
   "metadata": {},
   "outputs": [],
   "source": [
    "from pathlib import Path\n",
    "\n",
    "import duckdb\n",
    "import folium\n",
    "import geopandas"
   ]
  },
  {
   "cell_type": "code",
   "execution_count": 2,
   "metadata": {},
   "outputs": [],
   "source": [
    "gtfs_root = Path().resolve().parent / \"data/gtfs/rb_norway-aggregated-gtfs\"\n",
    "assert gtfs_root.exists()"
   ]
  },
  {
   "cell_type": "code",
   "execution_count": null,
   "metadata": {},
   "outputs": [],
   "source": [
    "agency = duckdb.read_parquet(str(gtfs_root / \"agency.parquet\"))\n",
    "shapes = duckdb.read_parquet(str(gtfs_root / \"shapes.parquet\"))\n",
    "trips = duckdb.read_parquet(str(gtfs_root / \"trips.parquet\"))\n",
    "transfers = duckdb.read_parquet(str(gtfs_root / \"transfers.parquet\"))\n",
    "feed_info = duckdb.read_parquet(str(gtfs_root / \"feed_info.parquet\"))\n",
    "calendar = duckdb.read_parquet(str(gtfs_root / \"calendar.parquet\"))\n",
    "calendar_dates = duckdb.read_parquet(str(gtfs_root / \"calendar_dates.parquet\"))\n",
    "stop_times = duckdb.read_parquet(str(gtfs_root / \"stop_times.parquet\"))\n",
    "routes = duckdb.read_parquet(str(gtfs_root / \"routes.parquet\"))\n",
    "stops = duckdb.read_parquet(str(gtfs_root / \"stops.parquet\"))\n",
    "shapes_linestring_simple = duckdb.read_parquet(\n",
    "    str(gtfs_root / \"shapes_linestring_simple.parquet\")\n",
    ")"
   ]
  },
  {
   "cell_type": "code",
   "execution_count": null,
   "metadata": {},
   "outputs": [],
   "source": [
    "trips.to_df()"
   ]
  },
  {
   "cell_type": "code",
   "execution_count": null,
   "metadata": {},
   "outputs": [],
   "source": [
    "trips.to_df().groupby(\"route_id\").size().sample(40)"
   ]
  },
  {
   "cell_type": "code",
   "execution_count": null,
   "metadata": {},
   "outputs": [],
   "source": [
    "agency"
   ]
  },
  {
   "cell_type": "code",
   "execution_count": null,
   "metadata": {},
   "outputs": [],
   "source": []
  }
 ],
 "metadata": {
  "kernelspec": {
   "display_name": ".venv",
   "language": "python",
   "name": "python3"
  },
  "language_info": {
   "codemirror_mode": {
    "name": "ipython",
    "version": 3
   },
   "file_extension": ".py",
   "mimetype": "text/x-python",
   "name": "python",
   "nbconvert_exporter": "python",
   "pygments_lexer": "ipython3",
   "version": "3.10.12"
  }
 },
 "nbformat": 4,
 "nbformat_minor": 2
}
