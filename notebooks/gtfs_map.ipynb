{
 "cells": [
  {
   "cell_type": "markdown",
   "metadata": {},
   "source": [
    "# Make a map of GTFS data"
   ]
  },
  {
   "cell_type": "code",
   "execution_count": null,
   "metadata": {},
   "outputs": [],
   "source": [
    "from pathlib import Path\n",
    "\n",
    "import duckdb\n",
    "import geopandas as gpd\n",
    "from shapely.geometry import LineString"
   ]
  },
  {
   "cell_type": "code",
   "execution_count": null,
   "metadata": {},
   "outputs": [],
   "source": [
    "shapes_parquet = (\n",
    "    Path().resolve().parent / \"data/gtfs/rb_norway-aggregated-gtfs/shapes.parquet\"\n",
    ")\n",
    "print(shapes_parquet)\n",
    "assert shapes_parquet.exists()\n",
    "shapes = duckdb.read_parquet(str(shapes_parquet))\n",
    "\n",
    "df_raw = shapes.limit(n=5_100_000, offset=20_000_000).to_df()\n",
    "df_raw"
   ]
  },
  {
   "cell_type": "code",
   "execution_count": null,
   "metadata": {},
   "outputs": [],
   "source": [
    "gdf = gpd.GeoDataFrame(\n",
    "    df_raw,\n",
    "    geometry=gpd.points_from_xy(df_raw.shape_pt_lon, df_raw.shape_pt_lat),\n",
    "    crs=\"EPSG:4326\",\n",
    ")\n",
    "gdf"
   ]
  },
  {
   "cell_type": "code",
   "execution_count": null,
   "metadata": {},
   "outputs": [],
   "source": [
    "df_shape_lines = (\n",
    "    gdf.groupby(\"shape_id\")[\"geometry\"]\n",
    "    .apply(lambda x: LineString(x.tolist()))\n",
    "    .to_frame()\n",
    "    .assign(\n",
    "        org_length=lambda df1: df1.geometry.apply(lambda x: len(x.coords)),\n",
    "        geometry=lambda df1: df1.geometry.apply(lambda x: x.simplify(0.0001)),\n",
    "        simplified_length=lambda df1: df1.geometry.apply(lambda x: len(x.coords)),\n",
    "    )\n",
    ")\n",
    "df_shape_lines"
   ]
  },
  {
   "cell_type": "code",
   "execution_count": null,
   "metadata": {},
   "outputs": [],
   "source": [
    "location = df_shape_lines.dissolve().convex_hull.centroid\n",
    "location"
   ]
  },
  {
   "cell_type": "code",
   "execution_count": null,
   "metadata": {},
   "outputs": [],
   "source": [
    "df_shape_lines.head(10).set_crs(\"epsg:4326\").explore()"
   ]
  },
  {
   "cell_type": "code",
   "execution_count": null,
   "metadata": {},
   "outputs": [],
   "source": []
  }
 ],
 "metadata": {
  "kernelspec": {
   "display_name": ".venv",
   "language": "python",
   "name": "python3"
  },
  "language_info": {
   "codemirror_mode": {
    "name": "ipython",
    "version": 3
   },
   "file_extension": ".py",
   "mimetype": "text/x-python",
   "name": "python",
   "nbconvert_exporter": "python",
   "pygments_lexer": "ipython3",
   "version": "3.10.12"
  }
 },
 "nbformat": 4,
 "nbformat_minor": 2
}
