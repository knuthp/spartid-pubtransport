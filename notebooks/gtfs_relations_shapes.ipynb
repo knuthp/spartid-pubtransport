{
 "cells": [
  {
   "cell_type": "markdown",
   "metadata": {},
   "source": [
    "# Exploring relations to shapes"
   ]
  },
  {
   "cell_type": "code",
   "execution_count": null,
   "metadata": {},
   "outputs": [],
   "source": [
    "from pathlib import Path\n",
    "\n",
    "import duckdb\n",
    "import folium\n",
    "import geopandas"
   ]
  },
  {
   "cell_type": "code",
   "execution_count": null,
   "metadata": {},
   "outputs": [],
   "source": [
    "gtfs_root = Path().resolve().parent / \"data/gtfs/rb_norway-aggregated-gtfs\"\n",
    "assert gtfs_root.exists()"
   ]
  },
  {
   "cell_type": "code",
   "execution_count": null,
   "metadata": {},
   "outputs": [],
   "source": [
    "agency = duckdb.read_parquet(str(gtfs_root / \"agency.parquet\"))\n",
    "shapes = duckdb.read_parquet(str(gtfs_root / \"shapes.parquet\"))\n",
    "trips = duckdb.read_parquet(str(gtfs_root / \"trips.parquet\"))\n",
    "calendar = duckdb.read_parquet(str(gtfs_root / \"calendar.parquet\"))\n",
    "calendar_dates = duckdb.read_parquet(str(gtfs_root / \"calendar_dates.parquet\"))\n",
    "stop_times = duckdb.read_parquet(str(gtfs_root / \"stop_times.parquet\"))\n",
    "routes = duckdb.read_parquet(str(gtfs_root / \"routes.parquet\"))\n",
    "stops = duckdb.read_parquet(str(gtfs_root / \"stops.parquet\"))\n",
    "shapes_linestring_simple = duckdb.read_parquet(\n",
    "    str(gtfs_root / \"shapes_linestring_simple.parquet\")\n",
    ")"
   ]
  },
  {
   "cell_type": "code",
   "execution_count": null,
   "metadata": {},
   "outputs": [],
   "source": [
    "line_ref = \"GJB:Line:R30\"\n",
    "dated_vehicle_journey_ref = \"GJB:ServiceJourney:224-ROA_204613-R\"\n",
    "vehicle_ref = \"224-2024-07-27\"\n",
    "shape_id = \"GJB:JourneyPattern:R30-256\"\n",
    "\n",
    "# http://172.18.73.229:8501/histmapone?data_frame_ref=2024-07-27&dated_vehicle_journey_ref=GJB:ServiceJourney:225-OSL_204615-R"
   ]
  },
  {
   "cell_type": "code",
   "execution_count": null,
   "metadata": {},
   "outputs": [],
   "source": [
    "df_routes = routes.to_df()\n",
    "df_trips = trips.to_df()"
   ]
  },
  {
   "cell_type": "markdown",
   "metadata": {},
   "source": [
    "## Relationships between Entur Real-Time data and Entur GTFS data\n",
    "| Real Time                 | GTFS        |\n",
    "| ------------------------- | ----------- |\n",
    "| dated_vehicle_journey_ref | trip_id     |\n",
    "| line_ref                  | route_id    |"
   ]
  },
  {
   "cell_type": "code",
   "execution_count": null,
   "metadata": {},
   "outputs": [],
   "source": [
    "(df_routes.query(f\"route_id.str.contains('{line_ref}')\"))"
   ]
  },
  {
   "cell_type": "code",
   "execution_count": null,
   "metadata": {},
   "outputs": [],
   "source": [
    "(df_trips.query(f\"route_id.str.contains('{line_ref}')\"))"
   ]
  },
  {
   "cell_type": "code",
   "execution_count": null,
   "metadata": {},
   "outputs": [],
   "source": [
    "(df_trips.query(f\"trip_id.str.contains('{dated_vehicle_journey_ref}')\"))"
   ]
  },
  {
   "cell_type": "markdown",
   "metadata": {},
   "source": [
    "## Annotating duckdb"
   ]
  },
  {
   "cell_type": "code",
   "execution_count": null,
   "metadata": {},
   "outputs": [],
   "source": [
    "res = duckdb.sql(\n",
    "    f\"\"\"\n",
    "        SELECT\n",
    "--            *,\n",
    "            stops.stop_id,\n",
    "            stops.stop_name,\n",
    "            stop_times.arrival_time,\n",
    "            stop_times.shape_dist_traveled\n",
    "        FROM stop_times\n",
    "        JOIN stops ON stop_times.stop_id = stops.stop_id\n",
    "        WHERE trip_id = '{dated_vehicle_journey_ref}'\n",
    "        ORDER BY stop_times.stop_sequence\n",
    "        ;\n",
    "    \"\"\"\n",
    ")\n",
    "res.show(max_width=500)"
   ]
  },
  {
   "cell_type": "code",
   "execution_count": null,
   "metadata": {},
   "outputs": [],
   "source": [
    "df_raw = res.to_df()\n",
    "gdf = geopandas.GeoDataFrame(\n",
    "    df_raw,\n",
    "    geometry=geopandas.points_from_xy(df_raw.stop_lon, df_raw.stop_lat),\n",
    "    crs=\"EPSG:4326\",\n",
    ")\n",
    "gdf.explore()"
   ]
  },
  {
   "cell_type": "code",
   "execution_count": null,
   "metadata": {},
   "outputs": [],
   "source": [
    "location = gdf.dissolve().convex_hull.centroid\n",
    "# location = gdf.geometry.centroid\n",
    "map = folium.Map(location=[location.y, location.x], zoom_start=9)\n",
    "for index, row in gdf.iterrows():\n",
    "    map.add_child(\n",
    "        folium.Marker(\n",
    "            location=[row.geometry.y, row.geometry.x],\n",
    "        )\n",
    "    )\n",
    "\n",
    "map"
   ]
  },
  {
   "cell_type": "code",
   "execution_count": null,
   "metadata": {},
   "outputs": [],
   "source": []
  },
  {
   "cell_type": "markdown",
   "metadata": {},
   "source": [
    "## Stop times statistics"
   ]
  },
  {
   "cell_type": "code",
   "execution_count": null,
   "metadata": {},
   "outputs": [],
   "source": [
    "res = duckdb.sql(\n",
    "    f\"\"\"\n",
    "        SELECT\n",
    "            trip_id,\n",
    "            max(shape_dist_traveled) AS total_distance,\n",
    "            min(arrival_time) AS start_time,\n",
    "            max(arrival_time) AS end_time,\n",
    "--            (max(strptime(arrival_time, '%H:%M:%S')) - min(strptime(arrival_time, '%H:%M:%S'))) as trip_time -- Hours are sometimes 24 or more if trip ends after midnight.\n",
    "            INTERVAL(CAST(end_time[0:2] AS INTEGER) * 60 * 60 + CAST(end_time[0:2] AS INTEGER) * 60 - CAST(start_time[0:2] AS INTEGER) * 60 * 60 + CAST(start_time[0:2] AS INTEGER) * 60) SECONDS AS total_time\n",
    "        FROM stop_times\n",
    "--        WHERE trip_id = '{dated_vehicle_journey_ref}'\n",
    "        GROUP BY trip_id;\n",
    "    \"\"\"\n",
    ")\n",
    "\n",
    "res.to_df()"
   ]
  },
  {
   "cell_type": "code",
   "execution_count": null,
   "metadata": {},
   "outputs": [],
   "source": []
  }
 ],
 "metadata": {
  "kernelspec": {
   "display_name": ".venv",
   "language": "python",
   "name": "python3"
  },
  "language_info": {
   "codemirror_mode": {
    "name": "ipython",
    "version": 3
   },
   "file_extension": ".py",
   "mimetype": "text/x-python",
   "name": "python",
   "nbconvert_exporter": "python",
   "pygments_lexer": "ipython3",
   "version": "3.12.2"
  }
 },
 "nbformat": 4,
 "nbformat_minor": 2
}
