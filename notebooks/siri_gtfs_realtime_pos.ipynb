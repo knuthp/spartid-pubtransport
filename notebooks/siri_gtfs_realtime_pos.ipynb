{
 "cells": [
  {
   "cell_type": "markdown",
   "metadata": {},
   "source": [
    "# SIRI Realtime without position using GTFS \n",
    "Ruter and others do not return position in lat/long only what stations it has passed and has to pass and time to station.\n",
    "Could we get approx position using GTFS data shapes/stops?"
   ]
  },
  {
   "cell_type": "code",
   "execution_count": null,
   "metadata": {},
   "outputs": [],
   "source": [
    "import pandas as pd\n",
    "import requests\n",
    "from lxml import etree"
   ]
  },
  {
   "cell_type": "code",
   "execution_count": null,
   "metadata": {},
   "outputs": [],
   "source": [
    "nsmap = {\n",
    "    \"siri\": \"http://www.siri.org.uk/siri\",\n",
    "    \"ns2\": \"http://www.ifopt.org.uk/acsb\",\n",
    "    \"ns3\": \"http://www.ifopt.org.uk/ifopt\",\n",
    "    \"ns4\": \"http://datex2.eu/schema/2_0RC1/2_0\",\n",
    "}"
   ]
  },
  {
   "cell_type": "code",
   "execution_count": null,
   "metadata": {},
   "outputs": [],
   "source": [
    "resp = requests.get(\"https://api.entur.io/realtime/v1/rest/et?datasetId=RUT\")\n",
    "assert resp.ok"
   ]
  },
  {
   "cell_type": "code",
   "execution_count": null,
   "metadata": {},
   "outputs": [],
   "source": [
    "resp.content[0:1000]"
   ]
  },
  {
   "cell_type": "code",
   "execution_count": null,
   "metadata": {},
   "outputs": [],
   "source": [
    "prstree = etree.fromstring(resp.content)\n",
    "root = prstree.tag\n",
    "\n",
    "all_items = []\n",
    "\n",
    "for journey in prstree.iter(etree.QName(nsmap[\"siri\"], \"EstimatedVehicleJourney\")):\n",
    "    journey_level1_dict = {\n",
    "        etree.QName(x).localname: x.text for x in journey if x.text is not None\n",
    "    }\n",
    "    framed_vehicle_ref = journey.find(\n",
    "        etree.QName(nsmap[\"siri\"], \"FramedVehicleJourneyRef\")\n",
    "    )\n",
    "    framed_vehicle_dict = {\n",
    "        etree.QName(x).localname: x.text\n",
    "        for x in framed_vehicle_ref\n",
    "        if x.text is not None\n",
    "    }\n",
    "    journey_dict = journey_level1_dict | framed_vehicle_dict\n",
    "    for estimated in journey.iter(etree.QName(nsmap[\"siri\"], \"EstimatedCall\")):\n",
    "        estimated_dict = {\n",
    "            etree.QName(x).localname: x.text for x in estimated\n",
    "        } | journey_dict\n",
    "        estimated_dict[\"XType\"] = \"EstimatedCall\"\n",
    "        all_items.append(estimated_dict)\n",
    "    for recorded in journey.iter(etree.QName(nsmap[\"siri\"], \"RecordedCall\")):\n",
    "        recorded_dict = {\n",
    "            etree.QName(x).localname: x.text for x in recorded\n",
    "        } | journey_dict\n",
    "        recorded_dict[\"XType\"] = \"RecordedCall\"\n",
    "        all_items.append(recorded_dict)\n",
    "\n",
    "df_raw = pd.DataFrame(all_items).convert_dtypes(dtype_backend=\"pyarrow\")\n",
    "df_raw.sample(10).T"
   ]
  },
  {
   "cell_type": "code",
   "execution_count": null,
   "metadata": {},
   "outputs": [],
   "source": [
    "df = df_raw.assign(\n",
    "    Order=df_raw.Order.astype(\"int64[pyarrow]\"),\n",
    "    AimedDepartureTime=pd.to_datetime(df_raw.AimedDepartureTime, format=\"ISO8601\"),\n",
    "    ActualDepartureTime=pd.to_datetime(df_raw.ActualDepartureTime, format=\"ISO8601\"),\n",
    "    ExpectedDepartureTime=pd.to_datetime(\n",
    "        df_raw.ExpectedDepartureTime, format=\"ISO8601\"\n",
    "    ),\n",
    "    ExpectedArrivalTime=pd.to_datetime(df_raw.ExpectedArrivalTime, format=\"ISO8601\"),\n",
    "    RecordedAtTime=pd.to_datetime(df_raw.RecordedAtTime, format=\"ISO8601\"),\n",
    ")"
   ]
  },
  {
   "cell_type": "code",
   "execution_count": null,
   "metadata": {},
   "outputs": [],
   "source": [
    "(\n",
    "    df.query(\"XType == 'EstimatedCall'\")\n",
    "    .sort_values(\"Order\")\n",
    "    .groupby([\"DatedVehicleJourneyRef\"])\n",
    "    .first()\n",
    "    .T\n",
    ")"
   ]
  },
  {
   "cell_type": "code",
   "execution_count": null,
   "metadata": {},
   "outputs": [],
   "source": [
    "(\n",
    "    df.query(\"Order > 1\")\n",
    "    .query(\"XType == 'RecordedCall'\")\n",
    "    .sort_values(\"Order\")\n",
    "    .groupby([\"DatedVehicleJourneyRef\"])\n",
    "    .last()\n",
    "    .T\n",
    ")"
   ]
  },
  {
   "cell_type": "code",
   "execution_count": null,
   "metadata": {},
   "outputs": [],
   "source": []
  },
  {
   "cell_type": "code",
   "execution_count": null,
   "metadata": {},
   "outputs": [],
   "source": []
  }
 ],
 "metadata": {
  "kernelspec": {
   "display_name": ".venv",
   "language": "python",
   "name": "python3"
  },
  "language_info": {
   "codemirror_mode": {
    "name": "ipython",
    "version": 3
   },
   "file_extension": ".py",
   "mimetype": "text/x-python",
   "name": "python",
   "nbconvert_exporter": "python",
   "pygments_lexer": "ipython3",
   "version": "3.12.2"
  }
 },
 "nbformat": 4,
 "nbformat_minor": 2
}
