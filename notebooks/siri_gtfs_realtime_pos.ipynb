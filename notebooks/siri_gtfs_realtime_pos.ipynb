{
 "cells": [
  {
   "cell_type": "markdown",
   "metadata": {},
   "source": [
    "# SIRI Realtime without position using GTFS \n",
    "Ruter and others do not return position in lat/long only what stations it has passed and has to pass and time to station.\n",
    "Could we get approx position using GTFS data shapes/stops?"
   ]
  },
  {
   "cell_type": "code",
   "execution_count": 50,
   "metadata": {},
   "outputs": [],
   "source": [
    "from pathlib import Path\n",
    "import pandas as pd\n",
    "import geopandas\n",
    "import requests\n",
    "from lxml import etree\n",
    "import duckdb\n",
    "\n",
    "from spartid_pubtransport import siri\n"
   ]
  },
  {
   "cell_type": "code",
   "execution_count": null,
   "metadata": {},
   "outputs": [],
   "source": [
    "exclude_vm_providers = \",\".join([key for key,value in siri.PROVIDERS.items() if value[\"rt\"] == \"VM\"])\n",
    "exclude_vm_providers"
   ]
  },
  {
   "cell_type": "code",
   "execution_count": 52,
   "metadata": {},
   "outputs": [],
   "source": [
    "nsmap = {\n",
    "    \"siri\": \"http://www.siri.org.uk/siri\",\n",
    "    \"ns2\": \"http://www.ifopt.org.uk/acsb\",\n",
    "    \"ns3\": \"http://www.ifopt.org.uk/ifopt\",\n",
    "    \"ns4\": \"http://datex2.eu/schema/2_0RC1/2_0\",\n",
    "}"
   ]
  },
  {
   "cell_type": "code",
   "execution_count": 53,
   "metadata": {},
   "outputs": [],
   "source": [
    "#resp = requests.get(\"https://api.entur.io/realtime/v1/rest/et?datasetId=RUT\")# BNR\")\n",
    "resp = requests.get(f\"https://api.entur.io/realtime/v1/rest/et?excludedDatasetIds={exclude_vm_providers}\")\n",
    "assert resp.ok"
   ]
  },
  {
   "cell_type": "code",
   "execution_count": null,
   "metadata": {},
   "outputs": [],
   "source": [
    "resp.content[0:1000]"
   ]
  },
  {
   "cell_type": "code",
   "execution_count": null,
   "metadata": {},
   "outputs": [],
   "source": [
    "prstree = etree.fromstring(resp.content)\n",
    "root = prstree.tag\n",
    "\n",
    "all_items = []\n",
    "\n",
    "for journey in prstree.iter(etree.QName(nsmap[\"siri\"], \"EstimatedVehicleJourney\")):\n",
    "    journey_level1_dict = {\n",
    "        etree.QName(x).localname: x.text for x in journey if x.text is not None\n",
    "    }\n",
    "\n",
    "    if (dated_vehicle_ref := journey.find(\n",
    "        etree.QName(nsmap[\"siri\"], \"DatedVehicleJourneyRef\")\n",
    "    )) is not None:\n",
    "        data_str = dated_vehicle_ref.text.split(\":\")\n",
    "        framed_vehicle_dict = {\n",
    "            \"DataFrameRef\": data_str[-1],\n",
    "            \"DatedVehicleJourneyRef\": data_str[0],\n",
    "        }\n",
    "    elif (estimated_vehicle_journey_code := journey.find(\n",
    "        etree.QName(nsmap[\"siri\"], \"EstimatedVehicleJourneyCode\")\n",
    "    )) is not None:\n",
    "        data_str = estimated_vehicle_journey_code.text\n",
    "        framed_vehicle_dict = {\n",
    "            \"DataFrameRef\": data_str,\n",
    "            \"DatedVehicleJourneyRef\": data_str,\n",
    "        }\n",
    "    else:\n",
    "        framed_vehicle_ref = journey.find(\n",
    "            etree.QName(nsmap[\"siri\"], \"FramedVehicleJourneyRef\")\n",
    "        )\n",
    "        framed_vehicle_dict = {\n",
    "            etree.QName(x).localname: x.text\n",
    "            for x in framed_vehicle_ref\n",
    "            if x.text is not None\n",
    "        }\n",
    "    journey_dict = journey_level1_dict | framed_vehicle_dict\n",
    "    for estimated in journey.iter(etree.QName(nsmap[\"siri\"], \"EstimatedCall\")):\n",
    "        estimated_dict = {\n",
    "            etree.QName(x).localname: x.text for x in estimated\n",
    "        } | journey_dict\n",
    "        estimated_dict[\"XType\"] = \"EstimatedCall\"\n",
    "        all_items.append(estimated_dict)\n",
    "    for recorded in journey.iter(etree.QName(nsmap[\"siri\"], \"RecordedCall\")):\n",
    "        recorded_dict = {\n",
    "            etree.QName(x).localname: x.text for x in recorded\n",
    "        } | journey_dict\n",
    "        recorded_dict[\"XType\"] = \"RecordedCall\"\n",
    "        all_items.append(recorded_dict)\n",
    "\n",
    "df_raw = pd.DataFrame(all_items).convert_dtypes(dtype_backend=\"pyarrow\")\n",
    "print(len(df_raw))\n",
    "df_raw.sample(10).T"
   ]
  },
  {
   "cell_type": "markdown",
   "metadata": {},
   "source": [
    "## Convert datatypes\n",
    "All XML is string, convert to DataFrame friendly types."
   ]
  },
  {
   "cell_type": "code",
   "execution_count": 59,
   "metadata": {},
   "outputs": [],
   "source": [
    "df = df_raw.assign(\n",
    "    Order=df_raw.Order.astype(\"int64[pyarrow]\"),\n",
    "    AimedDepartureTime=pd.to_datetime(df_raw.AimedDepartureTime, format=\"ISO8601\"),\n",
    "    ActualDepartureTime=pd.to_datetime(df_raw.ActualDepartureTime, format=\"ISO8601\"),\n",
    "    ExpectedDepartureTime=pd.to_datetime(\n",
    "        df_raw.ExpectedDepartureTime, format=\"ISO8601\"\n",
    "    ),\n",
    "    ExpectedArrivalTime=pd.to_datetime(df_raw.ExpectedArrivalTime, format=\"ISO8601\"),\n",
    "    RecordedAtTime=pd.to_datetime(df_raw.RecordedAtTime, format=\"ISO8601\"),\n",
    ")"
   ]
  },
  {
   "cell_type": "markdown",
   "metadata": {},
   "source": [
    "## Call type\n",
    "1. EstimatedCall\n",
    "1. RecordedCall"
   ]
  },
  {
   "cell_type": "code",
   "execution_count": null,
   "metadata": {},
   "outputs": [],
   "source": [
    "trip_id, df_trip = next(iter(df\n",
    " .groupby(\"DatedVehicleJourneyRef\")\n",
    "))\n",
    "df_one_trip = (df_trip.sort_values(\"Order\"))\n",
    "df_one_trip"
   ]
  },
  {
   "cell_type": "markdown",
   "metadata": {},
   "source": [
    "### Next stop of trip\n",
    "EstimatedCall first() will be the next stop this trip is approaching"
   ]
  },
  {
   "cell_type": "code",
   "execution_count": null,
   "metadata": {},
   "outputs": [],
   "source": [
    "(\n",
    "    df.query(\"XType == 'EstimatedCall'\")\n",
    "    .sort_values(\"Order\")\n",
    "    .groupby([\"DatedVehicleJourneyRef\"])\n",
    "    .first()\n",
    "    .T\n",
    ")"
   ]
  },
  {
   "cell_type": "markdown",
   "metadata": {},
   "source": [
    "### Last stop visited\n",
    "RecordedCall last is the last stop visited"
   ]
  },
  {
   "cell_type": "code",
   "execution_count": null,
   "metadata": {},
   "outputs": [],
   "source": [
    "df_last_stop = (\n",
    "    df.query(\"Order > 1\")\n",
    "    .query(\"XType == 'RecordedCall'\")\n",
    "    .sort_values(\"Order\")\n",
    "    .groupby([\"DatedVehicleJourneyRef\"])\n",
    "    .last()\n",
    ")\n",
    "df_last_stop.T"
   ]
  },
  {
   "cell_type": "markdown",
   "metadata": {},
   "source": [
    "## Merge Siri with Stop information\n",
    "### Read stops from GTFS"
   ]
  },
  {
   "cell_type": "code",
   "execution_count": null,
   "metadata": {},
   "outputs": [],
   "source": [
    "gtfs_root = Path().resolve().parent / \"data/gtfs/rb_norway-aggregated-gtfs\"\n",
    "assert gtfs_root.exists()\n",
    "stops = duckdb.read_parquet(str(gtfs_root / \"stops.parquet\"))\n",
    "df_stops = stops.to_df()\n",
    "df_stops"
   ]
  },
  {
   "cell_type": "code",
   "execution_count": null,
   "metadata": {},
   "outputs": [],
   "source": [
    "df_last_stop_with_info = (\n",
    "    df_last_stop\n",
    "        .merge(df_stops, left_on=\"StopPointRef\", right_on=\"stop_id\")\n",
    "        .dropna(axis=\"columns\")\n",
    ")\n",
    "df_last_stop_with_info"
   ]
  },
  {
   "cell_type": "markdown",
   "metadata": {},
   "source": [
    "## Create Geographic data for display"
   ]
  },
  {
   "cell_type": "code",
   "execution_count": 65,
   "metadata": {},
   "outputs": [],
   "source": [
    "df_last_stop_geo = geopandas.GeoDataFrame(\n",
    "    df_last_stop_with_info,\n",
    "    geometry=geopandas.points_from_xy(df_last_stop_with_info[\"stop_lon\"], df_last_stop_with_info[\"stop_lat\"]),\n",
    "    crs=\"EPSG:4326\",\n",
    ")"
   ]
  },
  {
   "cell_type": "code",
   "execution_count": null,
   "metadata": {},
   "outputs": [],
   "source": [
    "df_last_stop_geo.explore()"
   ]
  },
  {
   "cell_type": "code",
   "execution_count": null,
   "metadata": {},
   "outputs": [],
   "source": []
  }
 ],
 "metadata": {
  "kernelspec": {
   "display_name": ".venv",
   "language": "python",
   "name": "python3"
  },
  "language_info": {
   "codemirror_mode": {
    "name": "ipython",
    "version": 3
   },
   "file_extension": ".py",
   "mimetype": "text/x-python",
   "name": "python",
   "nbconvert_exporter": "python",
   "pygments_lexer": "ipython3",
   "version": "3.10.12"
  }
 },
 "nbformat": 4,
 "nbformat_minor": 2
}
